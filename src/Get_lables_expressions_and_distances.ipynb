{
  "cells": [
    {
      "cell_type": "code",
      "execution_count": null,
      "metadata": {
        "id": "HHiBek6by5yy"
      },
      "outputs": [],
      "source": [
        "\n",
        "import numpy as np\n",
        "import random\n",
        "import pandas as pd\n"
      ]
    },
    {
      "cell_type": "code",
      "execution_count": null,
      "metadata": {
        "colab": {
          "base_uri": "https://localhost:8080/"
        },
        "id": "16SpZHcjy3x2",
        "outputId": "c321a30e-472e-4c33-ce50-25995fd3451d"
      },
      "outputs": [
        {
          "output_type": "stream",
          "name": "stdout",
          "text": [
            "Collecting pyreadr\n",
            "  Downloading pyreadr-0.4.9-cp310-cp310-manylinux_2_17_x86_64.manylinux2014_x86_64.whl (434 kB)\n",
            "\u001b[2K     \u001b[90m━━━━━━━━━━━━━━━━━━━━━━━━━━━━━━━━━━━━━━━\u001b[0m \u001b[32m434.8/434.8 kB\u001b[0m \u001b[31m4.3 MB/s\u001b[0m eta \u001b[36m0:00:00\u001b[0m\n",
            "\u001b[?25hRequirement already satisfied: pandas>=1.2.0 in /usr/local/lib/python3.10/dist-packages (from pyreadr) (1.5.3)\n",
            "Requirement already satisfied: python-dateutil>=2.8.1 in /usr/local/lib/python3.10/dist-packages (from pandas>=1.2.0->pyreadr) (2.8.2)\n",
            "Requirement already satisfied: pytz>=2020.1 in /usr/local/lib/python3.10/dist-packages (from pandas>=1.2.0->pyreadr) (2023.3)\n",
            "Requirement already satisfied: numpy>=1.21.0 in /usr/local/lib/python3.10/dist-packages (from pandas>=1.2.0->pyreadr) (1.23.5)\n",
            "Requirement already satisfied: six>=1.5 in /usr/local/lib/python3.10/dist-packages (from python-dateutil>=2.8.1->pandas>=1.2.0->pyreadr) (1.16.0)\n",
            "Installing collected packages: pyreadr\n",
            "Successfully installed pyreadr-0.4.9\n",
            "Collecting biopython\n",
            "  Downloading biopython-1.81-cp310-cp310-manylinux_2_17_x86_64.manylinux2014_x86_64.whl (3.1 MB)\n",
            "\u001b[2K     \u001b[90m━━━━━━━━━━━━━━━━━━━━━━━━━━━━━━━━━━━━━━━━\u001b[0m \u001b[32m3.1/3.1 MB\u001b[0m \u001b[31m7.0 MB/s\u001b[0m eta \u001b[36m0:00:00\u001b[0m\n",
            "\u001b[?25hRequirement already satisfied: numpy in /usr/local/lib/python3.10/dist-packages (from biopython) (1.23.5)\n",
            "Installing collected packages: biopython\n",
            "Successfully installed biopython-1.81\n",
            "Python version: sys.version_info(major=3, minor=10, micro=12, releaselevel='final', serial=0)\n"
          ]
        }
      ],
      "source": [
        "!pip install pyreadr\n",
        "# import pyreader\n",
        "try:\n",
        "    import google.colab\n",
        "    # Running on Google Colab, so install Biopython first\n",
        "    !pip install biopython\n",
        "except ImportError:\n",
        "    pass\n",
        "import os\n",
        "import sys\n",
        "\n",
        "from urllib.request import urlretrieve\n",
        "from Bio import SeqIO, SearchIO, Entrez\n",
        "from Bio.Seq import Seq\n",
        "from Bio.SeqUtils import GC\n",
        "from Bio.Blast import NCBIWWW\n",
        "from Bio.Data import CodonTable\n",
        "\n",
        "print(\"Python version:\", sys.version_info)\n",
        "import numpy as np\n",
        "\n",
        "import gzip\n",
        "from mimetypes import guess_type\n",
        "from functools import partial\n",
        "import pyreadr\n"
      ]
    },
    {
      "cell_type": "code",
      "execution_count": null,
      "metadata": {
        "id": "s67x67Ary1po"
      },
      "outputs": [],
      "source": [
        "from google.colab import drive\n",
        "drive.mount('/content/drive')"
      ]
    },
    {
      "cell_type": "code",
      "execution_count": null,
      "metadata": {
        "id": "_DWnu6XczJKs"
      },
      "outputs": [],
      "source": [
        "processing = True\n",
        "# change to true if you start the pre-process from scratch\n",
        "if processing:\n",
        "  raw_data_brca_path = \"/content/drive/MyDrive/MSC/CH3_Project/Spatial Methyl/raw_data/BRCA.RData\"\n",
        "  raw_data_luad_path = \"/content/drive/MyDrive/MSC/CH3_Project/Spatial Methyl/raw_data/LUAD.RData\"\n",
        "  probe_to_serrounding_seq_path = \"/content/drive/MyDrive/MSC/CH3_Project/res/hg_chromosoms/probeToSurroundingSeqFilePrefixAll/probe_to_surroundingSeq.csv\"\n",
        "  probe_to_serrounding_seq_one_hot_path= \"/content/drive/MyDrive/MSC/CH3_Project/res/probe_to_surrounding_seq_one_hot.csv\"\n",
        "\n",
        "  raw_data_brca = pyreadr.read_r(raw_data_brca_path)\n",
        "  raw_data_luad = pyreadr.read_r(raw_data_luad_path)\n",
        "\n",
        "  methyl_brca = raw_data_brca['methyl']\n",
        "  methyl_luad = raw_data_luad['methyl']\n",
        "  expression_brca = raw_data_brca['expressi']\n",
        "  expression_luad = raw_data_luad['expressi']\n",
        "\n",
        "  print(f\"methyl_brca shape is {methyl_brca.shape}\")\n",
        "  print(methyl_brca.head())\n",
        "  print(f\"expression_brca shape is {expression_brca.shape}\")\n",
        "  print(expression_brca.head())\n",
        "  print(f\"methyl_luad shape is {methyl_luad.shape}\")\n",
        "  print(methyl_luad.head())\n",
        "  print(f\"expression_luad shape is {expression_luad.shape}\")\n",
        "  print(expression_luad.head())\n"
      ]
    },
    {
      "cell_type": "code",
      "source": [
        "preprocess_labels_and_expression = False\n",
        "# change to true if you want to prepare the labels and expression data as well\n",
        "if preprocess_labels_and_expression:\n",
        "  methyl_labels = pd.concat([methyl_brca, methyl_luad], axis=1, join=\"inner\")\n",
        "  methyl_labels.to_csv(\"/content/drive/MyDrive/MSC/CH3_Project/res/labels_methyl.csv\")\n",
        "  print(expression_brca.index)\n",
        "  print(expression_luad.index)\n",
        "  print(len(list(set(expression_brca.index) & set(expression_luad.index))))\n",
        "  print(len(list(set(expression_brca.columns) & set(expression_luad.columns))))\n",
        "  expression = pd.concat([expression_brca, expression_luad], axis=1, join=\"inner\")\n",
        "  expression.to_csv(\"/content/drive/MyDrive/MSC/CH3_Project/res/expression.csv\")"
      ],
      "metadata": {
        "id": "3CVI7MIrd_ZJ"
      },
      "execution_count": null,
      "outputs": []
    },
    {
      "cell_type": "code",
      "execution_count": null,
      "metadata": {
        "id": "4QEirBlfF-Iy"
      },
      "outputs": [],
      "source": [
        "class Conf:\n",
        "\n",
        "    dir_hg19 = \"/content/drive/MyDrive/MSC/CH3_Project/res/hg_chromosoms\"\n",
        "    checkpoint_dir = ''\n",
        "    numSurrounding = 400  # per side of CpG i.e. total is x2\n",
        "    chrArr = [str(i) for i in range(1,23)]\n",
        "    chrArr.extend(['X', 'Y'])\n",
        "    suffix = ''\n",
        "\n",
        "    ### YOUR SETTINGS - START ###\n",
        "    filename_sequence = 'probeToOneHotAll.csv'\n",
        "    filename_expression = 'TCGA_E_final_transposed.csv'\n",
        "    filename_dist = 'distances.csv'\n",
        "    filename_labels = 'TCGA_CH3_final.csv'  # lessDecimals.csv'\n",
        "\n",
        "    validation_portion_subjects = 0.1\n",
        "    validation_portion_probes = 0.1\n",
        "    train_portion_probes = 0.7\n",
        "\n",
        "    ### YOUR SETTINGS - END ###\n",
        "\n",
        "    # Below conf files are intended for use ONLY in dataProcessor, not in model code\n",
        "    probeToSurroundingSeqFilePrefixAll = '/content/drive/MyDrive/MSC/CH3_Project/res/hg_chromosoms/probeToSurroundingSeqFilePrefixAll/probe_to_surroundingSeq'\n",
        "    probeToSurroundingSeqFilePrefixChr = '/content/drive/MyDrive/MSC/CH3_Project/res/hg_chromosoms/probeToSurroundingSeqFilePrefixChr/probe_to_surroundingSeq'\n",
        "\n",
        "    probeToOneHotMtrxFilePrefixChr = '../res/probeToOneHotMtrx_'\n",
        "\n",
        "    probeToOneHotMtrxFilePrefixAll = '../res/probeToOneHotMtrxAll'+str(suffix)\n",
        "    probeToOneHotPrefixAll = '../res/probeToOneHotAll'+str(suffix)\n",
        "    probeToOneHotPrefixChr = '../res/probeToOneHotChr_'+str(suffix)\n",
        "    numBases = 5\n",
        "    dfDistances = '../res/distances.csv'\n",
        "    dfMethylName = 'combined_CH3'\n",
        "    dfMethyl_BRCA = '/content/drive/MyDrive/MSC/CH3_Project/res/BRCA_methyl.csv'\n",
        "    dfMethyl_normal = '/content/drive/MyDrive/MSC/CH3_Project/res/Normal_methyl.csv'\n",
        "    dfExpression_BRCA = '/content/drive/MyDrive/MSC/CH3_Project/res/BRCA_expression.csv'\n",
        "    dfExpression_normal = '/content/drive/MyDrive/MSC/CH3_Project/res/Normal_expression.csv'\n",
        "\n",
        "    numSampleInputCpgs = 4\n",
        "    numInputCpgs = 5000\n",
        "\n",
        "    epochs = 2\n",
        "    batch_size = 32\n",
        "    num_steps = 50000\n"
      ]
    },
    {
      "cell_type": "markdown",
      "source": [
        "# Creating distances file"
      ],
      "metadata": {
        "id": "4ZwsOSiEn5Pe"
      }
    },
    {
      "cell_type": "code",
      "execution_count": null,
      "metadata": {
        "id": "J38kfBqDpwTq"
      },
      "outputs": [],
      "source": [
        "entries = [\"/content/drive/MyDrive/MSC/CH3_Project/res/genomic.gbff\"]\n",
        "import csv\n",
        "\n",
        "def createGenePositionsDict(gene_to_pos_csv_path=\"\", genes_in_data = []):\n",
        "    genesInData = genes_in_data\n",
        "    geneToPos = {}\n",
        "    from Bio import SeqIO\n",
        "    # get the gene's pos and insert into dict.\n",
        "    counter = 0\n",
        "    for index, filename in enumerate(entries):\n",
        "        records = SeqIO.parse(filename,\"genbank\")\n",
        "        for record in records:\n",
        "            for fg in record.features:\n",
        "                if \"gene\" in fg.qualifiers:\n",
        "                    genes = fg.qualifiers['gene']\n",
        "                    for gene in genes:\n",
        "                        if str(gene).upper() in genesInData:\n",
        "                            start = fg.location.start.position\n",
        "                            end = fg.location.end.position\n",
        "                            for f in record.features:\n",
        "                                try:\n",
        "                                    chromosome = f.qualifiers['chromosome'][0]\n",
        "                                except:\n",
        "                                    continue\n",
        "                            geneToPos[gene] = [chromosome, start, end]\n",
        "                            counter+=1\n",
        "                            print(\"\\n\"+gene+\" \"+str(chromosome)+\"_\"+str(start)+\"_\"+str(end))\n",
        "\n",
        "    with open(gene_to_pos_csv_path, \"w\") as outfile:\n",
        "        writer = csv.writer(outfile)\n",
        "        genes_list = list(geneToPos.keys())\n",
        "        columns = ['gene', 'chromosome', 'start', 'end']\n",
        "        writer.writerow(columns)\n",
        "        for i, gene in enumerate(genes_list):\n",
        "            row = [gene] + list(geneToPos[gene])\n",
        "            writer.writerow(row)\n",
        "\n",
        "    return geneToPos\n",
        "\n",
        "\n",
        "\n",
        "def createProbePositionsDict_adjusted(methyl_path, prob_to_pos_csv_path, probes_in_data):\n",
        "    prob_to_pos = pd.read_csv(methyl_path, header=0, sep='\\t', dtype={'Chr': object})\n",
        "    mask = prob_to_pos['probe'].isin(probes_in_data)\n",
        "    prob_to_pos = prob_to_pos[mask]\n",
        "    prob_to_pos = prob_to_pos.drop(columns=['chromHMM'])\n",
        "    prob_to_pos['chr'] = [c[3:] for c in prob_to_pos['chr']]\n",
        "    prob_to_pos = prob_to_pos.reindex(['probe', 'start', 'end', 'chr'], axis=1)\n",
        "    prob_to_pos.to_csv(prob_to_pos_csv_path)\n",
        "    return prob_to_pos"
      ]
    },
    {
      "cell_type": "code",
      "execution_count": null,
      "metadata": {
        "id": "lNyF0QTmpKlQ"
      },
      "outputs": [],
      "source": [
        "def createDistanceMatrx_adjusted(geneToPos, probeToPos, sort_probes, numProbes=-1, preSelectedProbes=False,\n",
        "                                 genesInCols=False, useInverseDist=False, window_limit=-1, distance_path = \"/content/drive/MyDrive/MSC/CH3_Project/res/distances.csv\"):\n",
        "    \"\"\"\n",
        "    Creates distances.csv (between gene expression and CpG.\n",
        "    \"\"\"\n",
        "    import math\n",
        "    probesInData = probeToPos['probe'].unique()\n",
        "    genesInData = geneToPos['gene'].unique()\n",
        "    cols = ['Probe']\n",
        "    # data = []\n",
        "    genesKept = []\n",
        "    probesKept = []\n",
        "    dataToAppend = False\n",
        "    probeCounter = 0\n",
        "    first_row_being_added = True\n",
        "    try:\n",
        "        os.remove(distance_path)\n",
        "        print(\"distances file was removed\")\n",
        "    except:\n",
        "        print(\"distances file not removed because wasn't found\")\n",
        "    if numProbes != -1:\n",
        "        chosenProbes = random.sample(list(probesInData), numProbes)\n",
        "    else:\n",
        "        if preSelectedProbes!= False:\n",
        "          chosenProbes = preSelectedProbes\n",
        "          print(f\"the chosen probes are preselected: \\n {chosenProbes}\")\n",
        "        else:\n",
        "          chosenProbes = probesInData\n",
        "    if sort_probes:\n",
        "        chosenProbes.sort()  # sort only if later we want that in dataProcessor we will only have to sort the CH3 file and not the distances file\n",
        "    with open(distance_path, 'a') as dist_file:\n",
        "        print(chosenProbes)\n",
        "        for probe in chosenProbes:\n",
        "            # print(f\"probe {probe}\")\n",
        "            if numProbes != -1:\n",
        "                # print(f\"numProbes != -1\")\n",
        "                if probeCounter >= numProbes:\n",
        "                    break\n",
        "            try:\n",
        "                probesKept.append(probe)\n",
        "                dataRow = [probe]\n",
        "                row_has_pos_dist_in_window = False\n",
        "            except:\n",
        "                continue\n",
        "            # print(\"new genes cycle\")\n",
        "            for gene in genesInData:\n",
        "                try:\n",
        "                    gene_start, gene_end = geneToPos[geneToPos[\"gene\"] == gene][\"start\"], geneToPos[geneToPos[\"gene\"] == gene][\"end\"]\n",
        "                    cpg_start, cpg_end = probeToPos[probeToPos[\"probe\"] == probe][\"start\"], probeToPos[probeToPos[\"probe\"] == probe][\"end\"]\n",
        "                    probeChr = probeToPos[probeToPos[\"probe\"] == probe]['chr'].iloc[0]\n",
        "                    geneChr = geneToPos[geneToPos[\"gene\"] == gene]['chromosome'].iloc[0]\n",
        "                    if str(probeChr) == str(geneChr):\n",
        "                        if useInverseDist:\n",
        "                            distance = 1/float(int(gene_start) - int(cpg_start))\n",
        "                            if window_limit != -1:\n",
        "                                if abs(1 / float(distance)) <= window_limit:\n",
        "                                    row_has_pos_dist_in_window = True\n",
        "\n",
        "                        else:\n",
        "                            distance = int(gene_start) - int(cpg_start)\n",
        "                        dataRow.append(distance)\n",
        "                    else:\n",
        "                        if useInverseDist:\n",
        "                            dataRow.append(0)  # the length of chr1 which is the largest possible distance\n",
        "                        else:\n",
        "                            dataRow.append(248956422) # the length of chr1 which is the largest possible distance\n",
        "                    if probeCounter == 0: # only on the first iteration over all genes add them as column names\n",
        "                        cols.append(gene)\n",
        "                        genesKept.append(gene)\n",
        "                except:\n",
        "                    continue\n",
        "\n",
        "            if useInverseDist and window_limit != -1:\n",
        "                if row_has_pos_dist_in_window:\n",
        "                    if first_row_being_added:\n",
        "                        print(\"first_row_being_added\")\n",
        "                        dist_file.write(','.join(cols))\n",
        "                        first_row_being_added = False\n",
        "                    dist_file.write('\\n')\n",
        "                    dist_file.write(','.join(map(str, dataRow)))\n",
        "                probeCounter += 1\n",
        "            else:\n",
        "                if probeCounter == 0:\n",
        "                    dist_file.write(','.join(cols))\n",
        "                dist_file.write('\\n')\n",
        "                dist_file.write(','.join(map(str, dataRow)))\n",
        "                probeCounter += 1\n",
        "\n"
      ]
    },
    {
      "cell_type": "code",
      "execution_count": null,
      "metadata": {
        "id": "AorNUcQxpEHV",
        "colab": {
          "base_uri": "https://localhost:8080/"
        },
        "outputId": "37623c92-722a-418f-b19e-69adc5637010"
      },
      "outputs": [
        {
          "output_type": "stream",
          "name": "stderr",
          "text": [
            "<ipython-input-9-837f019c97db>:21: DtypeWarning: Columns (4) have mixed types. Specify dtype option on import or set low_memory=False.\n",
            "  prob_to_pos = pd.read_csv(\"/content/drive/MyDrive/MSC/CH3_Project/for_distances/prob_to_pos.csv\")\n"
          ]
        }
      ],
      "source": [
        "gene_to_pose_probe_to_pose = False\n",
        "if gene_to_pose_probe_to_pose:\n",
        "  genes_braca = list(expression_brca.index.unique())\n",
        "  genes_luad = list(expression_luad.index.unique())\n",
        "  genes_in_data = list(set(genes_braca + genes_luad))\n",
        "  print(f' genes_in_data length {len(genes_in_data)}')\n",
        "\n",
        "  probes_braca = list(methyl_brca.index)\n",
        "  probes_luad = list(methyl_luad.index)\n",
        "  probes_in_data = list(set(probes_luad + probes_braca))\n",
        "  print(f' probes_in_data length {len(probes_in_data)}')\n",
        "\n",
        "  # creating a mapping file between each gene in the data, to it's position in the genome (using  genomic.gbff file)\n",
        "  createGenePositionsDict(gene_to_pos_csv_path = \"/content/drive/MyDrive/MSC/CH3_Project/for_distances/geneToPos.csv\", genes_in_data = genes_in_data)\n",
        "  # creating a mapping file between each probe (CpG) in the data, to it's position in the methyl data file 450k_probes_ChroMM.bed\n",
        "  createProbePositionsDict_adjusted(methyl_path=\"/content/drive/MyDrive/MSC/CH3_Project/res/450k_probes_ChroMM.bed\",\n",
        "                                                  prob_to_pos_csv_path = \"/content/drive/MyDrive/MSC/CH3_Project/for_distances/prob_to_pos.csv\",\n",
        "                                                  probes_in_data = probes_in_data)\n",
        "else:\n",
        "  gene_to_pos = pd.read_csv(\"/content/drive/MyDrive/MSC/CH3_Project/for_distances/geneToPos.csv\")\n",
        "  prob_to_pos = pd.read_csv(\"/content/drive/MyDrive/MSC/CH3_Project/for_distances/prob_to_pos.csv\")"
      ]
    },
    {
      "cell_type": "code",
      "execution_count": null,
      "metadata": {
        "id": "PXZoE75ZqRVv"
      },
      "outputs": [],
      "source": [
        "labels_df_sampled = pd.read_csv(\"/content/drive/MyDrive/MSC/CH3_Project/res/labels_sampled.csv\")\n",
        "cpgs = list(labels_df_sampled['Probe'])"
      ]
    },
    {
      "cell_type": "markdown",
      "source": [
        "**Creating distances file:**"
      ],
      "metadata": {
        "id": "UbZ4AuPWoAAD"
      }
    },
    {
      "cell_type": "code",
      "execution_count": null,
      "metadata": {
        "id": "eRmcTsenpATQ"
      },
      "outputs": [],
      "source": [
        "distance_path = \"/content/drive/MyDrive/MSC/CH3_Project/res/distances_full_2000_base_pairs_around_cpg.csv\"\n",
        "createDistanceMatrx_adjusted(geneToPos=gene_to_pos, probeToPos=prob_to_pos,\n",
        "                                numProbes=-1, sort_probes=True, preSelectedProbes=False, useInverseDist=True, window_limit=2000, distance_path = distance_path)"
      ]
    },
    {
      "cell_type": "markdown",
      "source": [
        "**Reading the distance file for validation**"
      ],
      "metadata": {
        "id": "7_NTux8boXdE"
      }
    },
    {
      "cell_type": "code",
      "execution_count": null,
      "metadata": {
        "id": "rzKQ1dGzhPmt"
      },
      "outputs": [],
      "source": [
        "distances_df = pd.read_csv(distance_path)\n",
        "distances_df"
      ]
    }
  ],
  "metadata": {
    "colab": {
      "machine_shape": "hm",
      "provenance": []
    },
    "gpuClass": "standard",
    "kernelspec": {
      "display_name": "Python 3",
      "name": "python3"
    },
    "language_info": {
      "name": "python"
    }
  },
  "nbformat": 4,
  "nbformat_minor": 0
}